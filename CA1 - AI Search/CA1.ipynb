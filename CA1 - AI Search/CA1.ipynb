{
    "cells": [
        {
            "attachments": {},
            "cell_type": "markdown",
            "metadata": {},
            "source": [
                "#  AI - CA (DZ Day)"
            ]
        },
        {
            "attachments": {},
            "cell_type": "markdown",
            "metadata": {},
            "source": [
                "### We use uninformed and informed search algorithm (BFS, IDS, A*) in this project."
            ]
        },
        {
            "attachments": {},
            "cell_type": "markdown",
            "metadata": {},
            "source": [
                "Map of problem is implemented by `Map` class that has `Nodes`. Each node has adjacency list and 3 identifiers which are `is_eater`, `is_recipe` and `is_hard`."
            ]
        },
        {
            "cell_type": "code",
            "execution_count": 1,
            "metadata": {},
            "outputs": [],
            "source": [
                "import time\n",
                "import heapq\n",
                "from dataclasses import dataclass\n",
                "from copy import deepcopy\n",
                "from functools import partial\n",
                "from typing import Callable, Any\n",
                "\n",
                "\n",
                "@dataclass\n",
                "class Node:\n",
                "    def __init__(self) -> None:\n",
                "        self.is_eater = False\n",
                "        self.is_recipe = False\n",
                "        self.is_hard = False\n",
                "        self.adj = []\n",
                "\n",
                "    @property\n",
                "    def is_special(self):\n",
                "        return self.is_eater or self.is_recipe\n",
                "    \n",
                "\n",
                "@dataclass\n",
                "class Map:\n",
                "    def __init__(self, v):\n",
                "        self.v = v\n",
                "        self.nodes = [Node() for _ in range(v)]\n",
                "        \n",
                "    def add_edge(self, a, b):\n",
                "        self.nodes[a].adj.append(b)\n",
                "        self.nodes[b].adj.append(a)\n",
                "\n",
                "map: Map\n"
            ]
        },
        {
            "attachments": {},
            "cell_type": "markdown",
            "metadata": {},
            "source": [
                "### Problem's states are implemented by `State` class. Each state has properties:\n",
                "\n",
                "1- Current location -> `loc`\n",
                "\n",
                "2- Nodes' visitin and timer status -> `nodes`\n",
                "\n",
                "3- Eaters that all of their recipes are found and their nodes are visited -> `satisfied_eaters`\n",
                "\n",
                "4- Recipes that their nodes are visited -> `found_recipes`\n",
                "\n",
                "5- Cost of crossed path -> `time`\n",
                "\n",
                "6- Crossed path until current state -> `path`\n",
                "\\\n",
                "\\\n",
                "\\\n",
                "To distinguish states we hash `satisfied_eaters`, `found_recipes` & `loc`."
            ]
        },
        {
            "cell_type": "code",
            "execution_count": 2,
            "metadata": {},
            "outputs": [],
            "source": [
                "@dataclass\n",
                "class State:\n",
                "    def __init__(self, v):\n",
                "        self.loc: int\n",
                "        self.nodes = [{'visited':False, 'timer':1} for _ in range(v)]\n",
                "        self.satisfied_eaters = set()\n",
                "        self.found_recipes = set()\n",
                "        self.time = 0\n",
                "        self.path = []\n",
                "\n",
                "    def _tuple(self):\n",
                "        return (tuple(self.satisfied_eaters), tuple(self.found_recipes), self.loc)\n",
                "\n",
                "    def __hash__(self):\n",
                "        return hash(self._tuple())\n"
            ]
        },
        {
            "attachments": {},
            "cell_type": "markdown",
            "metadata": {},
            "source": [
                "`eaters_to_recipes` is a dict that specifies recipes of each eater."
            ]
        },
        {
            "cell_type": "code",
            "execution_count": 3,
            "metadata": {},
            "outputs": [],
            "source": [
                "eaters_to_recipes: dict[list[int]]"
            ]
        },
        {
            "attachments": {},
            "cell_type": "markdown",
            "metadata": {},
            "source": [
                "Following function read input file and return initial state."
            ]
        },
        {
            "cell_type": "code",
            "execution_count": 4,
            "metadata": {},
            "outputs": [],
            "source": [
                "def read_file(file_name):\n",
                "    with open(file_name) as f:\n",
                "        n, m = [int(x) for x in f.readline().split()]\n",
                "\n",
                "        initial_state = State(n)\n",
                "\n",
                "        global map, eaters_to_recipes\n",
                "        map = Map(n)\n",
                "        eaters_to_recipes = dict()\n",
                "\n",
                "        for _ in range(int(m)):\n",
                "            a, b = f.readline().split()\n",
                "            map.add_edge(int(a) - 1, int(b) - 1)\n",
                "\n",
                "        h = int(f.readline())\n",
                "        hard_nodes = [int(x) for x in f.readline().split()]\n",
                "        for v in hard_nodes:\n",
                "            map.nodes[v - 1].is_hard = True\n",
                "        \n",
                "        s = int(f.readline())\n",
                "        for i in range(s):\n",
                "            line = [int(x) for x in f.readline().split()]\n",
                "\n",
                "            eater = line[0]\n",
                "            map.nodes[eater - 1].is_eater = True\n",
                "\n",
                "            for r in line[2:]:\n",
                "                map.nodes[r - 1].is_recipe = True\n",
                "                eaters_to_recipes[eater - 1] = eaters_to_recipes.get(eater - 1, [])\n",
                "                eaters_to_recipes[eater - 1].append(r - 1)\n",
                "        \n",
                "        v = int(f.readline())\n",
                "        initial_state.loc = v - 1\n",
                "        initial_state.path.append(v)\n",
                "\n",
                "        return initial_state\n"
            ]
        },
        {
            "attachments": {},
            "cell_type": "markdown",
            "metadata": {},
            "source": [
                "To sort states by different scale, we implement a heap structure that named `StateHeap`. It uses predicator callable to sort states."
            ]
        },
        {
            "cell_type": "code",
            "execution_count": 5,
            "metadata": {},
            "outputs": [],
            "source": [
                "class StateHeap:\n",
                "    def __init__(self, key=lambda x:x):\n",
                "        self.key = key\n",
                "        self.index = 0\n",
                "        self._data = []\n",
                "\n",
                "    def push(self, item):\n",
                "        heapq.heappush(self._data, (self.key(item), self.index, item))\n",
                "        self.index += 1\n",
                "\n",
                "    def pop(self):\n",
                "        return heapq.heappop(self._data)[2]\n",
                "\n",
                "    def __bool__(self):\n",
                "        return bool(self._data)\n"
            ]
        },
        {
            "attachments": {},
            "cell_type": "markdown",
            "metadata": {},
            "source": [
                "`is_satisfied` checks if all of eater's recipes are found or not.\n",
                "\n",
                "Action:\n",
                "`move` function gets a state and new location and after creating new state, returns it.\n",
                "\n",
                "`is_goal` checks if current state is goal or not."
            ]
        },
        {
            "cell_type": "code",
            "execution_count": 6,
            "metadata": {},
            "outputs": [],
            "source": [
                "def is_satisfied(eater_recipes, found_recipes):\n",
                "    for recipe in eater_recipes:\n",
                "        if recipe not in found_recipes:\n",
                "            return False\n",
                "    return True\n",
                "\n",
                "\n",
                "def move(cur_state: State, new_loc):\n",
                "    next_state = deepcopy(cur_state)\n",
                "    \n",
                "    next_state.loc = new_loc\n",
                "    next_state.nodes[new_loc]['visited'] = True\n",
                "    next_state.time += next_state.nodes[new_loc]['timer']\n",
                "\n",
                "    if map.nodes[new_loc].is_hard:\n",
                "        next_state.nodes[new_loc]['timer'] += 1\n",
                "    if map.nodes[new_loc].is_recipe:\n",
                "        next_state.found_recipes.add(new_loc)\n",
                "    if map.nodes[new_loc].is_eater:\n",
                "        if is_satisfied(eaters_to_recipes[new_loc], next_state.found_recipes):\n",
                "            next_state.satisfied_eaters.add(new_loc)\n",
                "            \n",
                "    return next_state\n",
                "    \n",
                "\n",
                "def is_goal(state: State):\n",
                "    if len(eaters_to_recipes) == len(state.satisfied_eaters):\n",
                "            return True\n",
                "    else:\n",
                "        return False\n"
            ]
        },
        {
            "attachments": {},
            "cell_type": "markdown",
            "metadata": {},
            "source": [
                "# Breadth First Search (BFS)"
            ]
        },
        {
            "attachments": {},
            "cell_type": "markdown",
            "metadata": {},
            "source": [
                "### Pros:\n",
                "As an uninformed search algorithm, has good time complexity.\n",
                "\n",
                "Is optimal\n",
                "\n",
                "\n",
                "### Cons:\n",
                "\n",
                "Is slower than A*\n",
                "\n",
                "Requires more space than IDS\n",
                "\n",
                "\n",
                "### Implementation\n",
                "\n",
                "States cant compared to each other normally. So we hash them and save them in visited states that is a set.\n",
                "\n",
                "In each state we move our location to adjacents and after updating state properties, we add new states to frontier that keeps states sorted.\n",
                "\n",
                "If a state is goal, it will be returned.\n"
            ]
        },
        {
            "cell_type": "code",
            "execution_count": 89,
            "metadata": {},
            "outputs": [],
            "source": [
                "def BFS(file_address):\n",
                "    visited_count = 0\n",
                "    visited_states = set()\n",
                "\n",
                "    frontier_heap = StateHeap(lambda state: state.time)\n",
                "    frontier_heap.push(read_file(file_address))\n",
                "\n",
                "    while frontier_heap:\n",
                "        current_state = frontier_heap.pop()\n",
                "        if current_state in visited_states:\n",
                "            continue\n",
                "        visited_states.add(current_state)\n",
                "        \n",
                "        cur_loc = current_state.loc\n",
                "        for v in map.nodes[cur_loc].adj:\n",
                "            new_state = move(current_state, v)\n",
                "            visited_count += 1\n",
                "            new_state.path.append(v + 1)\n",
                "\n",
                "            if is_goal(new_state):\n",
                "                    return (new_state, visited_count)\n",
                "            frontier_heap.push(new_state)\n",
                "            \n",
                "    return (None, None)"
            ]
        },
        {
            "attachments": {},
            "cell_type": "markdown",
            "metadata": {},
            "source": [
                "`run` function runs a callable algorithm and returns `execution time`, `goal state` and `count of visited states`.\n",
                "\n",
                "`test` function runs an algorithm 3 times and print optimal path, cost, average time and count of visited states."
            ]
        },
        {
            "cell_type": "code",
            "execution_count": 90,
            "metadata": {},
            "outputs": [],
            "source": [
                "def run(func: Callable, address: str) -> tuple[int, State, int] :\n",
                "    tic=time.time()\n",
                "    state, visited_count = func(address)\n",
                "    toc=time.time()\n",
                "    return toc-tic, state, visited_count\n",
                "\n",
                "def test(func: Callable, address: str):\n",
                "    time1, _, _ = run(func, address)\n",
                "    time2, _, _ = run(func, address)\n",
                "    time3, state, visited_count = run(func, address)\n",
                "\n",
                "    path, cost = state.path, state.time\n",
                "    average_time = (time1 + time2 + time3) / 3\n",
                "\n",
                "    print(f\"Path: {' -> '.join([str(node) for node in path])}\")\n",
                "    print(f\"Cost: {cost}\")\n",
                "    print(f\"Average time: {average_time}\")\n",
                "    print(f\"Count of visited states: {visited_count}\\n\")\n"
            ]
        },
        {
            "cell_type": "code",
            "execution_count": 91,
            "metadata": {},
            "outputs": [
                {
                    "name": "stdout",
                    "output_type": "stream",
                    "text": [
                        "Path: 1 -> 3 -> 4 -> 5 -> 7 -> 10 -> 11 -> 9 -> 8\n",
                        "Cost: 8\n",
                        "Average time: 0.010656038920084635\n",
                        "Count of visited states: 86\n",
                        "\n",
                        "Path: 9 -> 10 -> 9 -> 4 -> 12 -> 3 -> 7 -> 5 -> 8\n",
                        "Cost: 8\n",
                        "Average time: 0.013332684834798178\n",
                        "Count of visited states: 182\n",
                        "\n",
                        "Path: 13 -> 11 -> 10 -> 3 -> 2 -> 6 -> 12 -> 5 -> 9 -> 4 -> 1 -> 13 -> 11 -> 10\n",
                        "Cost: 13\n",
                        "Average time: 0.16677014032999674\n",
                        "Count of visited states: 2024\n",
                        "\n"
                    ]
                }
            ],
            "source": [
                "input1 = \"testcases (easy)/input.txt\"\n",
                "input2 = \"testcases (easy)/input2.txt\"\n",
                "input3 = \"testcases (easy)/input3.txt\"\n",
                "\n",
                "test(BFS, input1)\n",
                "test(BFS, input2)\n",
                "test(BFS, input3)"
            ]
        },
        {
            "attachments": {},
            "cell_type": "markdown",
            "metadata": {},
            "source": [
                "## Results\n",
                "|Property|Test 1|Test 2|Test 3|\n",
                "|:-:|:---:|:---:|:---:|\n",
                "|**Time**          |0.010s|0.013s|0.166s|\n",
                "|**Count of states**|86|182|2024|\n",
                "|**Cost** |8|8|13|\n",
                "\n",
                "&nbsp;\n",
                "&nbsp;\n",
                "&nbsp;\n",
                "---"
            ]
        },
        {
            "attachments": {},
            "cell_type": "markdown",
            "metadata": {},
            "source": [
                "# Iterative Deepening Search (IDS)"
            ]
        },
        {
            "attachments": {},
            "cell_type": "markdown",
            "metadata": {},
            "source": [
                "### Pros:\n",
                "\n",
                "Requires less memory than BFS and A*\n",
                "Is optimal\n",
                "\n",
                "### Cons:\n",
                "Visits more states than BFS and A* and\n",
                "It's possible to visit a state more than 1 time\n",
                "Is Slower than BFS and A*\n",
                "\n",
                "### Implementation:\n",
                "We iterate over depth from 0 to as much as needed and call DFS with this limit.\n",
                "DFS is a recursive function and is called for each adjacent of a node and new state would be created. When DFS through a subtree couldn't find a solution, after returning that state would be removed from visited states."
            ]
        },
        {
            "cell_type": "code",
            "execution_count": 92,
            "metadata": {},
            "outputs": [],
            "source": [
                "def DFS(current_state: State, visited_states: set[State], depth, visited_count=0):\n",
                "    visited_states.add(current_state)\n",
                "\n",
                "    if current_state.time > depth:\n",
                "        return None, visited_count\n",
                "\n",
                "    if is_goal(current_state):\n",
                "        return (current_state, visited_count)\n",
                "\n",
                "    cur_loc = current_state.loc\n",
                "    for v in map.nodes[cur_loc].adj:\n",
                "        new_state = move(current_state, v)\n",
                "        if(new_state) in visited_states:\n",
                "            continue\n",
                "        new_state.path.append(v + 1)\n",
                "        result, visited_count = DFS(new_state, visited_states, depth, visited_count+1)\n",
                "        visited_states.remove(new_state)\n",
                "        if result is not None:\n",
                "            return result, visited_count\n",
                "\n",
                "    return None, visited_count\n",
                "\n",
                "\n",
                "def IDS(file_address):\n",
                "    initial_state = read_file(file_address)\n",
                "    depth = 0\n",
                "    total_visited_count = 0\n",
                "    while True:\n",
                "        visited_states = set()\n",
                "        result, visited_count = DFS(initial_state, visited_states, depth)\n",
                "        total_visited_count += visited_count\n",
                "        if result:\n",
                "            return result, visited_count\n",
                "        depth += 1\n"
            ]
        },
        {
            "cell_type": "code",
            "execution_count": 97,
            "metadata": {},
            "outputs": [
                {
                    "name": "stdout",
                    "output_type": "stream",
                    "text": [
                        "Path: 1 -> 3 -> 4 -> 5 -> 7 -> 10 -> 11 -> 9 -> 8\n",
                        "Cost: 8\n",
                        "Average time: 0.0940095583597819\n",
                        "Count of visited states: 232\n",
                        "\n",
                        "Path: 9 -> 10 -> 9 -> 4 -> 12 -> 3 -> 7 -> 5 -> 8\n",
                        "Cost: 8\n",
                        "Average time: 0.24645423889160156\n",
                        "Count of visited states: 712\n",
                        "\n",
                        "Path: 13 -> 11 -> 10 -> 3 -> 2 -> 6 -> 12 -> 5 -> 9 -> 4 -> 1 -> 13 -> 11 -> 10\n",
                        "Cost: 13\n",
                        "Average time: 3.6563045183817544\n",
                        "Count of visited states: 11406\n",
                        "\n"
                    ]
                }
            ],
            "source": [
                "test(IDS, input1)\n",
                "test(IDS, input2)\n",
                "test(IDS, input3)"
            ]
        },
        {
            "attachments": {},
            "cell_type": "markdown",
            "metadata": {},
            "source": [
                "## Results\n",
                "|Property|Test 1|Test 2|Test 3|\n",
                "|:-:|:---:|:---:|:---:|\n",
                "|**Time**          |0.094s|0.246s|3.656s|\n",
                "|**Count of states**|232|712|11406|\n",
                "|**Cost** |8|8|13|\n",
                "\n",
                "&nbsp;\n",
                "&nbsp;\n",
                "&nbsp;\n",
                "---"
            ]
        },
        {
            "attachments": {},
            "cell_type": "markdown",
            "metadata": {},
            "source": [
                "# A*"
            ]
        },
        {
            "attachments": {},
            "cell_type": "markdown",
            "metadata": {},
            "source": [
                "### Pros:\n",
                "\n",
                "Is optimal\n",
                "\n",
                "Is informed search algorithm\n",
                "\n",
                "Because of heuristic, is faster and visits less states than BFS and IDS\n",
                "\n",
                "\n",
                "### Cons:\n",
                "\n",
                "Finding heuristic functions may be difficult\n",
                "\n",
                "Requires more space than IDS\n",
                "\n",
                "\n",
                "### Implementation\n",
                "\n",
                "It's exactly like BFS, but states in frontier will be sorted by `cost + heuristic(state)` and it can help us to check states with higher possiblity of success first. Heuristic clalculator is passed to `StateHeap` as lambda fucntion.\n",
                "\n",
                "\n",
                "### Heuristic\n",
                "\n",
                "**h(state) = count of nodes that have eater or recipe and hasn't been visited yet**\n",
                "\n",
                "This heuristic is admissible because to reach goal state we should visit these special nodes at least. And is consistent because this case is true also between each 2 nodes.\n"
            ]
        },
        {
            "cell_type": "code",
            "execution_count": 68,
            "metadata": {},
            "outputs": [],
            "source": [
                "def heuristic(state: State):\n",
                "    h = 0\n",
                "    for i in range(len(state.nodes)):\n",
                "        if not state.nodes[i]['visited'] and map.nodes[i].is_special:\n",
                "            h += 1\n",
                "    return h\n",
                "    "
            ]
        },
        {
            "cell_type": "code",
            "execution_count": 69,
            "metadata": {},
            "outputs": [],
            "source": [
                "def A_star(file_address, alpha=1):\n",
                "    total_visited_states = 0\n",
                "    visited_states = set()\n",
                "\n",
                "    frontier_heap = StateHeap(lambda state: state.time + alpha * heuristic(state))\n",
                "    frontier_heap.push(read_file(file_address))\n",
                "\n",
                "    while frontier_heap:\n",
                "        current_state = frontier_heap.pop()\n",
                "        if current_state in visited_states:\n",
                "            continue\n",
                "        visited_states.add(current_state)\n",
                "        \n",
                "        cur_loc = current_state.loc\n",
                "        for v in map.nodes[cur_loc].adj:\n",
                "            new_state = move(current_state, v)\n",
                "            total_visited_states += 1\n",
                "            new_state.path.append(v + 1)\n",
                "\n",
                "            if is_goal(new_state):\n",
                "                    return (new_state, total_visited_states)\n",
                "            frontier_heap.push(new_state)\n",
                "            \n",
                "    return (None, None)   "
            ]
        },
        {
            "attachments": {},
            "cell_type": "markdown",
            "metadata": {},
            "source": [
                "# Weighted A*"
            ]
        },
        {
            "attachments": {},
            "cell_type": "markdown",
            "metadata": {},
            "source": [
                "### Implementation\n",
                "\n",
                "For weighted A* we pass alpha to A* function. It can make heuristic unconsistent.\n",
                "\n",
                "\n",
                "### Pros\n",
                "Is faster than normal A*\n",
                "\n",
                "### Cons\n",
                "Is not optimal always."
            ]
        },
        {
            "cell_type": "code",
            "execution_count": 98,
            "metadata": {},
            "outputs": [
                {
                    "name": "stdout",
                    "output_type": "stream",
                    "text": [
                        "--------alpha=1--------\n",
                        "Path: 1 -> 3 -> 4 -> 5 -> 7 -> 10 -> 11 -> 9 -> 8\n",
                        "Cost: 8\n",
                        "Average time: 0.010666290918986002\n",
                        "Count of visited states: 85\n",
                        "\n",
                        "Path: 9 -> 10 -> 9 -> 4 -> 12 -> 3 -> 7 -> 5 -> 8\n",
                        "Cost: 8\n",
                        "Average time: 0.01708364486694336\n",
                        "Count of visited states: 165\n",
                        "\n",
                        "Path: 13 -> 11 -> 10 -> 3 -> 2 -> 6 -> 12 -> 5 -> 9 -> 4 -> 1 -> 13 -> 11 -> 10\n",
                        "Cost: 13\n",
                        "Average time: 0.14486018816630045\n",
                        "Count of visited states: 1182\n",
                        "\n"
                    ]
                }
            ],
            "source": [
                "print('--------alpha=1--------')\n",
                "test(partial(A_star), input1)\n",
                "test(partial(A_star), input2)\n",
                "test(partial(A_star), input3)"
            ]
        },
        {
            "attachments": {},
            "cell_type": "markdown",
            "metadata": {},
            "source": [
                "## Results\n",
                "|Property|Test 1|Test 2|Test 3|\n",
                "|:-:|:---:|:---:|:---:|\n",
                "|**Time**          |0.0106s|0.017s|0.144s|\n",
                "|**Count of states**|85|165|1182|\n",
                "|**Cost** |8|8|13|\n",
                "\n",
                "&nbsp;\n",
                "&nbsp;\n",
                "&nbsp;\n",
                "---"
            ]
        },
        {
            "cell_type": "code",
            "execution_count": 99,
            "metadata": {},
            "outputs": [
                {
                    "name": "stdout",
                    "output_type": "stream",
                    "text": [
                        "--------alpha=1.4--------\n",
                        "Path: 1 -> 3 -> 4 -> 5 -> 4 -> 8 -> 9 -> 11 -> 9 -> 8\n",
                        "Cost: 9\n",
                        "Average time: 0.009000778198242188\n",
                        "Count of visited states: 76\n",
                        "\n",
                        "Path: 9 -> 10 -> 9 -> 4 -> 12 -> 3 -> 7 -> 5 -> 8\n",
                        "Cost: 8\n",
                        "Average time: 0.013347784678141275\n",
                        "Count of visited states: 131\n",
                        "\n",
                        "Path: 13 -> 11 -> 10 -> 3 -> 2 -> 6 -> 12 -> 5 -> 9 -> 4 -> 1 -> 13 -> 11 -> 10\n",
                        "Cost: 13\n",
                        "Average time: 0.06599887212117513\n",
                        "Count of visited states: 592\n",
                        "\n"
                    ]
                }
            ],
            "source": [
                "print('--------alpha=1.4--------')\n",
                "test(partial(A_star, alpha=1.4), input1)\n",
                "test(partial(A_star, alpha=1.4), input2)\n",
                "test(partial(A_star, alpha=1.4), input3)"
            ]
        },
        {
            "attachments": {},
            "cell_type": "markdown",
            "metadata": {},
            "source": [
                "## Results\n",
                "|Property|Test 1|Test 2|Test 3|\n",
                "|:-:|:---:|:---:|:---:|\n",
                "|**Time**          |0.009s|0.013s|0.065s|\n",
                "|**Count of states**|76|131|592|\n",
                "|**Cost** |9|8|13|\n",
                "\n",
                "&nbsp;\n",
                "&nbsp;\n",
                "&nbsp;\n",
                "---"
            ]
        },
        {
            "cell_type": "code",
            "execution_count": 100,
            "metadata": {},
            "outputs": [
                {
                    "name": "stdout",
                    "output_type": "stream",
                    "text": [
                        "--------alpha=3--------\n",
                        "Path: 1 -> 3 -> 4 -> 5 -> 4 -> 8 -> 9 -> 11 -> 9 -> 8\n",
                        "Cost: 9\n",
                        "Average time: 0.004664897918701172\n",
                        "Count of visited states: 33\n",
                        "\n",
                        "Path: 9 -> 10 -> 8 -> 5 -> 7 -> 3 -> 12 -> 4 -> 2 -> 10 -> 8 -> 5 -> 7\n",
                        "Cost: 14\n",
                        "Average time: 0.007348060607910156\n",
                        "Count of visited states: 72\n",
                        "\n",
                        "Path: 13 -> 1 -> 4 -> 9 -> 5 -> 10 -> 3 -> 2 -> 6 -> 12 -> 5 -> 10 -> 11 -> 13 -> 1 -> 4\n",
                        "Cost: 16\n",
                        "Average time: 0.026664177576700848\n",
                        "Count of visited states: 139\n",
                        "\n"
                    ]
                }
            ],
            "source": [
                "print('--------alpha=3--------')\n",
                "test(partial(A_star, alpha=3), input1)\n",
                "test(partial(A_star, alpha=3), input2)\n",
                "test(partial(A_star, alpha=3), input3)"
            ]
        },
        {
            "attachments": {},
            "cell_type": "markdown",
            "metadata": {},
            "source": [
                "## Results\n",
                "|Property|Test 1|Test 2|Test 3|\n",
                "|:-:|:---:|:---:|:---:|\n",
                "|**Time**          |0.004s|0.007s|0.026s|\n",
                "|**Count of states**|33|72|139|\n",
                "|**Cost** |9|14|16|\n",
                "\n",
                "&nbsp;\n",
                "&nbsp;\n",
                "&nbsp;\n",
                "---"
            ]
        },
        {
            "attachments": {},
            "cell_type": "markdown",
            "metadata": {},
            "source": [
                "# Overal Results"
            ]
        },
        {
            "attachments": {},
            "cell_type": "markdown",
            "metadata": {},
            "source": [
                "**- Test 1**\n",
                "\n",
                "|**Method**|**Time**|**Cost**|**Count of states**|\n",
                "|:-:|:---:|:---:|:---:|\n",
                "|**BFS** |0.010s|8|86|\n",
                "|**IDS** |0.094s|8|232|\n",
                "|**A\\*** |0.010s|8|85|\n",
                "|**Weighted A\\* ($\\alpha = 1.4$)** |0.009s|9|76|\n",
                "|**Weighted A\\* ($\\alpha = 3$)** |0.004s|9|33|"
            ]
        },
        {
            "attachments": {},
            "cell_type": "markdown",
            "metadata": {},
            "source": [
                "**- Test 2**\n",
                "\n",
                "|**Method**|**Time**|**Cost**|**Count of states**|\n",
                "|:-:|:---:|:---:|:---:|\n",
                "|**BFS** |0.013s|8|182|\n",
                "|**IDS** |0.246s|8|712|\n",
                "|**A\\*** |0.017s|8|165|\n",
                "|**Weighted A\\* ($\\alpha = 1.4$)** |0.013s|8|131|\n",
                "|**Weighted A\\* ($\\alpha = 3$)** |0.003s|14|72|"
            ]
        },
        {
            "attachments": {},
            "cell_type": "markdown",
            "metadata": {},
            "source": [
                "**- Test 3**\n",
                "\n",
                "|**Method**|**Time**|**Cost**|**Count of states**|\n",
                "|:-:|:---:|:---:|:---:|\n",
                "|**BFS** |0.166s|13|2024|\n",
                "|**IDS** |3.656s|13|11406|\n",
                "|**A\\*** |0.144s|13|1182|\n",
                "|**Weighted A\\* ($\\alpha = 1.4$)** |0.065s|13|592|\n",
                "|**Weighted A\\* ($\\alpha = 3$)** |0.026s|16|139|"
            ]
        }
    ],
    "metadata": {
        "kernelspec": {
            "display_name": "Python 3.11.0 64-bit",
            "language": "python",
            "name": "python3"
        },
        "language_info": {
            "codemirror_mode": {
                "name": "ipython",
                "version": 3
            },
            "file_extension": ".py",
            "mimetype": "text/x-python",
            "name": "python",
            "nbconvert_exporter": "python",
            "pygments_lexer": "ipython3",
            "version": "3.11.0"
        },
        "orig_nbformat": 4,
        "vscode": {
            "interpreter": {
                "hash": "c261aea317cc0286b3b3261fbba9abdec21eaa57589985bb7a274bf54d6cc0a7"
            }
        }
    },
    "nbformat": 4,
    "nbformat_minor": 2
}
